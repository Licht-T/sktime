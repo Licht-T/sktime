{
 "cells": [
  {
   "cell_type": "markdown",
   "metadata": {},
   "source": [
    "# Feature extraction with tsfresh transformer\n",
    "\n",
    "In this tutorial, we show how you can use sktime with [tsfresh](https://tsfresh.readthedocs.io) to first extract features from time series, so that we can then use any scikit-learn estimator.\n",
    "\n",
    "## Preliminaries\n",
    "You have to install tsfresh if you haven't already. To install it, uncomment the cell below:"
   ]
  },
  {
   "cell_type": "code",
   "execution_count": 1,
   "metadata": {},
   "outputs": [],
   "source": [
    "# !pip install --upgrade tsfresh"
   ]
  },
  {
   "cell_type": "code",
   "execution_count": 2,
   "metadata": {},
   "outputs": [],
   "source": [
    "import numpy as np\n",
    "from sklearn.model_selection import train_test_split\n",
    "from sklearn.ensemble import RandomForestClassifier\n",
    "from sklearn.pipeline import make_pipeline\n",
    "from sktime.datasets import load_basic_motions\n",
    "from sktime.datasets import load_arrow_head\n",
    "from sktime.transformers.series_as_features.summarize import \\\n",
    "    TSFreshFeatureExtractor"
   ]
  },
  {
   "cell_type": "markdown",
   "metadata": {},
   "source": [
    "## Univariate time series classification data\n",
    "\n",
    "For more details on the data set, see the [univariate time series classification notebook](https://github.com/alan-turing-institute/sktime/blob/master/examples/02_classification_univariate.ipynb)."
   ]
  },
  {
   "cell_type": "code",
   "execution_count": 3,
   "metadata": {},
   "outputs": [
    {
     "name": "stdout",
     "output_type": "stream",
     "text": [
      "(158, 1) (158,) (53, 1) (53,)\n"
     ]
    }
   ],
   "source": [
    "X, y = load_arrow_head(return_X_y=True)\n",
    "X_train, X_test, y_train, y_test = train_test_split(X, y)\n",
    "print(X_train.shape, y_train.shape, X_test.shape, y_test.shape)"
   ]
  },
  {
   "cell_type": "code",
   "execution_count": 4,
   "metadata": {
    "jupyter": {
     "outputs_hidden": false
    },
    "pycharm": {
     "name": "#%%\n"
    }
   },
   "outputs": [
    {
     "data": {
      "text/html": [
       "<div>\n",
       "<style scoped>\n",
       "    .dataframe tbody tr th:only-of-type {\n",
       "        vertical-align: middle;\n",
       "    }\n",
       "\n",
       "    .dataframe tbody tr th {\n",
       "        vertical-align: top;\n",
       "    }\n",
       "\n",
       "    .dataframe thead th {\n",
       "        text-align: right;\n",
       "    }\n",
       "</style>\n",
       "<table border=\"1\" class=\"dataframe\">\n",
       "  <thead>\n",
       "    <tr style=\"text-align: right;\">\n",
       "      <th></th>\n",
       "      <th>dim_0</th>\n",
       "    </tr>\n",
       "  </thead>\n",
       "  <tbody>\n",
       "    <tr>\n",
       "      <th>15</th>\n",
       "      <td>0     -2.1645\n",
       "1     -2.1785\n",
       "2     -2.0660\n",
       "3   ...</td>\n",
       "    </tr>\n",
       "    <tr>\n",
       "      <th>2</th>\n",
       "      <td>0     -1.8660\n",
       "1     -1.8420\n",
       "2     -1.8350\n",
       "3   ...</td>\n",
       "    </tr>\n",
       "    <tr>\n",
       "      <th>10</th>\n",
       "      <td>0     -2.0336\n",
       "1     -2.0052\n",
       "2     -1.9754\n",
       "3   ...</td>\n",
       "    </tr>\n",
       "    <tr>\n",
       "      <th>165</th>\n",
       "      <td>0     -1.8302\n",
       "1     -1.8123\n",
       "2     -1.8122\n",
       "3   ...</td>\n",
       "    </tr>\n",
       "    <tr>\n",
       "      <th>168</th>\n",
       "      <td>0     -1.5317\n",
       "1     -1.5413\n",
       "2     -1.5150\n",
       "3   ...</td>\n",
       "    </tr>\n",
       "  </tbody>\n",
       "</table>\n",
       "</div>"
      ],
      "text/plain": [
       "                                                 dim_0\n",
       "15   0     -2.1645\n",
       "1     -2.1785\n",
       "2     -2.0660\n",
       "3   ...\n",
       "2    0     -1.8660\n",
       "1     -1.8420\n",
       "2     -1.8350\n",
       "3   ...\n",
       "10   0     -2.0336\n",
       "1     -2.0052\n",
       "2     -1.9754\n",
       "3   ...\n",
       "165  0     -1.8302\n",
       "1     -1.8123\n",
       "2     -1.8122\n",
       "3   ...\n",
       "168  0     -1.5317\n",
       "1     -1.5413\n",
       "2     -1.5150\n",
       "3   ..."
      ]
     },
     "execution_count": 4,
     "metadata": {},
     "output_type": "execute_result"
    }
   ],
   "source": [
    "X_train.head()"
   ]
  },
  {
   "cell_type": "code",
   "execution_count": 5,
   "metadata": {},
   "outputs": [
    {
     "data": {
      "text/plain": [
       "array(['0', '1', '2'], dtype=object)"
      ]
     },
     "execution_count": 5,
     "metadata": {},
     "output_type": "execute_result"
    }
   ],
   "source": [
    "# binary classification task\n",
    "np.unique(y_train)"
   ]
  },
  {
   "cell_type": "markdown",
   "metadata": {},
   "source": [
    "## Using tsfresh to extract features"
   ]
  },
  {
   "cell_type": "code",
   "execution_count": 6,
   "metadata": {},
   "outputs": [
    {
     "name": "stderr",
     "output_type": "stream",
     "text": [
      "/Users/travis/build/alan-turing-institute/sktime/sktime/transformers/series_as_features/summarize/_tsfresh.py:150: UserWarning: Found non-unique index, replaced with unique index.\n",
      "  warn(\"Found non-unique index, replaced with unique index.\")\n"
     ]
    },
    {
     "name": "stderr",
     "output_type": "stream",
     "text": [
      "\r",
      "Feature Extraction:   0%|          | 0/5 [00:00<?, ?it/s]"
     ]
    },
    {
     "name": "stderr",
     "output_type": "stream",
     "text": [
      "\r",
      "Feature Extraction:  20%|██        | 1/5 [00:04<00:18,  4.52s/it]"
     ]
    },
    {
     "name": "stderr",
     "output_type": "stream",
     "text": [
      "\r",
      "Feature Extraction:  40%|████      | 2/5 [00:09<00:13,  4.52s/it]"
     ]
    },
    {
     "name": "stderr",
     "output_type": "stream",
     "text": [
      "\r",
      "Feature Extraction:  60%|██████    | 3/5 [00:13<00:08,  4.50s/it]"
     ]
    },
    {
     "name": "stderr",
     "output_type": "stream",
     "text": [
      "\r",
      "Feature Extraction:  80%|████████  | 4/5 [00:17<00:04,  4.47s/it]"
     ]
    },
    {
     "name": "stderr",
     "output_type": "stream",
     "text": [
      "\r",
      "Feature Extraction: 100%|██████████| 5/5 [00:22<00:00,  4.37s/it]"
     ]
    },
    {
     "name": "stderr",
     "output_type": "stream",
     "text": [
      "\r",
      "Feature Extraction: 100%|██████████| 5/5 [00:22<00:00,  4.40s/it]"
     ]
    },
    {
     "name": "stderr",
     "output_type": "stream",
     "text": [
      "\n"
     ]
    },
    {
     "data": {
      "text/html": [
       "<div>\n",
       "<style scoped>\n",
       "    .dataframe tbody tr th:only-of-type {\n",
       "        vertical-align: middle;\n",
       "    }\n",
       "\n",
       "    .dataframe tbody tr th {\n",
       "        vertical-align: top;\n",
       "    }\n",
       "\n",
       "    .dataframe thead th {\n",
       "        text-align: right;\n",
       "    }\n",
       "</style>\n",
       "<table border=\"1\" class=\"dataframe\">\n",
       "  <thead>\n",
       "    <tr style=\"text-align: right;\">\n",
       "      <th>variable</th>\n",
       "      <th>dim_0__abs_energy</th>\n",
       "      <th>dim_0__absolute_sum_of_changes</th>\n",
       "      <th>dim_0__agg_autocorrelation__f_agg_\"mean\"__maxlag_40</th>\n",
       "      <th>dim_0__agg_autocorrelation__f_agg_\"median\"__maxlag_40</th>\n",
       "      <th>dim_0__agg_autocorrelation__f_agg_\"var\"__maxlag_40</th>\n",
       "      <th>dim_0__agg_linear_trend__attr_\"intercept\"__chunk_len_10__f_agg_\"max\"</th>\n",
       "      <th>dim_0__agg_linear_trend__attr_\"intercept\"__chunk_len_10__f_agg_\"mean\"</th>\n",
       "      <th>dim_0__agg_linear_trend__attr_\"intercept\"__chunk_len_10__f_agg_\"min\"</th>\n",
       "      <th>dim_0__agg_linear_trend__attr_\"intercept\"__chunk_len_10__f_agg_\"var\"</th>\n",
       "      <th>dim_0__agg_linear_trend__attr_\"intercept\"__chunk_len_50__f_agg_\"max\"</th>\n",
       "      <th>...</th>\n",
       "      <th>dim_0__symmetry_looking__r_0.9500000000000001</th>\n",
       "      <th>dim_0__time_reversal_asymmetry_statistic__lag_1</th>\n",
       "      <th>dim_0__time_reversal_asymmetry_statistic__lag_2</th>\n",
       "      <th>dim_0__time_reversal_asymmetry_statistic__lag_3</th>\n",
       "      <th>dim_0__value_count__value_-1</th>\n",
       "      <th>dim_0__value_count__value_0</th>\n",
       "      <th>dim_0__value_count__value_1</th>\n",
       "      <th>dim_0__variance</th>\n",
       "      <th>dim_0__variance_larger_than_standard_deviation</th>\n",
       "      <th>dim_0__variation_coefficient</th>\n",
       "    </tr>\n",
       "  </thead>\n",
       "  <tbody>\n",
       "    <tr>\n",
       "      <th>0</th>\n",
       "      <td>250.000147</td>\n",
       "      <td>90.753080</td>\n",
       "      <td>0.025819</td>\n",
       "      <td>0.027341</td>\n",
       "      <td>0.156608</td>\n",
       "      <td>0.581990</td>\n",
       "      <td>0.081349</td>\n",
       "      <td>-1.101400</td>\n",
       "      <td>0.294958</td>\n",
       "      <td>1.408367</td>\n",
       "      <td>...</td>\n",
       "      <td>1.0</td>\n",
       "      <td>0.080009</td>\n",
       "      <td>0.020304</td>\n",
       "      <td>-0.006633</td>\n",
       "      <td>0.0</td>\n",
       "      <td>0.0</td>\n",
       "      <td>0.0</td>\n",
       "      <td>0.996017</td>\n",
       "      <td>0.0</td>\n",
       "      <td>2.216810e+06</td>\n",
       "    </tr>\n",
       "    <tr>\n",
       "      <th>1</th>\n",
       "      <td>250.000681</td>\n",
       "      <td>78.336636</td>\n",
       "      <td>0.272725</td>\n",
       "      <td>0.307540</td>\n",
       "      <td>0.093725</td>\n",
       "      <td>-0.289365</td>\n",
       "      <td>-0.539812</td>\n",
       "      <td>-1.012311</td>\n",
       "      <td>0.076638</td>\n",
       "      <td>0.660190</td>\n",
       "      <td>...</td>\n",
       "      <td>1.0</td>\n",
       "      <td>0.048147</td>\n",
       "      <td>0.004981</td>\n",
       "      <td>-0.017610</td>\n",
       "      <td>0.0</td>\n",
       "      <td>0.0</td>\n",
       "      <td>0.0</td>\n",
       "      <td>0.996019</td>\n",
       "      <td>0.0</td>\n",
       "      <td>1.482248e+06</td>\n",
       "    </tr>\n",
       "    <tr>\n",
       "      <th>2</th>\n",
       "      <td>250.000207</td>\n",
       "      <td>92.344784</td>\n",
       "      <td>0.140379</td>\n",
       "      <td>0.166116</td>\n",
       "      <td>0.115197</td>\n",
       "      <td>0.002486</td>\n",
       "      <td>-0.350879</td>\n",
       "      <td>-1.450639</td>\n",
       "      <td>0.229205</td>\n",
       "      <td>0.898647</td>\n",
       "      <td>...</td>\n",
       "      <td>1.0</td>\n",
       "      <td>0.070395</td>\n",
       "      <td>0.035235</td>\n",
       "      <td>0.011076</td>\n",
       "      <td>0.0</td>\n",
       "      <td>0.0</td>\n",
       "      <td>0.0</td>\n",
       "      <td>0.996017</td>\n",
       "      <td>0.0</td>\n",
       "      <td>6.423067e+05</td>\n",
       "    </tr>\n",
       "    <tr>\n",
       "      <th>3</th>\n",
       "      <td>250.000184</td>\n",
       "      <td>79.858768</td>\n",
       "      <td>0.301700</td>\n",
       "      <td>0.332384</td>\n",
       "      <td>0.080103</td>\n",
       "      <td>-0.327842</td>\n",
       "      <td>-0.590065</td>\n",
       "      <td>-1.135305</td>\n",
       "      <td>0.090937</td>\n",
       "      <td>0.676802</td>\n",
       "      <td>...</td>\n",
       "      <td>1.0</td>\n",
       "      <td>0.050930</td>\n",
       "      <td>0.009605</td>\n",
       "      <td>-0.010717</td>\n",
       "      <td>0.0</td>\n",
       "      <td>0.0</td>\n",
       "      <td>0.0</td>\n",
       "      <td>0.996017</td>\n",
       "      <td>0.0</td>\n",
       "      <td>-2.070245e+06</td>\n",
       "    </tr>\n",
       "    <tr>\n",
       "      <th>4</th>\n",
       "      <td>250.000137</td>\n",
       "      <td>74.267442</td>\n",
       "      <td>0.377671</td>\n",
       "      <td>0.444606</td>\n",
       "      <td>0.092169</td>\n",
       "      <td>-0.226793</td>\n",
       "      <td>-0.669387</td>\n",
       "      <td>-1.186474</td>\n",
       "      <td>0.095314</td>\n",
       "      <td>0.709578</td>\n",
       "      <td>...</td>\n",
       "      <td>1.0</td>\n",
       "      <td>0.027791</td>\n",
       "      <td>0.004080</td>\n",
       "      <td>-0.010069</td>\n",
       "      <td>0.0</td>\n",
       "      <td>0.0</td>\n",
       "      <td>0.0</td>\n",
       "      <td>0.996016</td>\n",
       "      <td>0.0</td>\n",
       "      <td>1.278059e+06</td>\n",
       "    </tr>\n",
       "  </tbody>\n",
       "</table>\n",
       "<p>5 rows × 757 columns</p>\n",
       "</div>"
      ],
      "text/plain": [
       "variable  dim_0__abs_energy  dim_0__absolute_sum_of_changes  \\\n",
       "0                250.000147                       90.753080   \n",
       "1                250.000681                       78.336636   \n",
       "2                250.000207                       92.344784   \n",
       "3                250.000184                       79.858768   \n",
       "4                250.000137                       74.267442   \n",
       "\n",
       "variable  dim_0__agg_autocorrelation__f_agg_\"mean\"__maxlag_40  \\\n",
       "0                                                  0.025819     \n",
       "1                                                  0.272725     \n",
       "2                                                  0.140379     \n",
       "3                                                  0.301700     \n",
       "4                                                  0.377671     \n",
       "\n",
       "variable  dim_0__agg_autocorrelation__f_agg_\"median\"__maxlag_40  \\\n",
       "0                                                  0.027341       \n",
       "1                                                  0.307540       \n",
       "2                                                  0.166116       \n",
       "3                                                  0.332384       \n",
       "4                                                  0.444606       \n",
       "\n",
       "variable  dim_0__agg_autocorrelation__f_agg_\"var\"__maxlag_40  \\\n",
       "0                                                  0.156608    \n",
       "1                                                  0.093725    \n",
       "2                                                  0.115197    \n",
       "3                                                  0.080103    \n",
       "4                                                  0.092169    \n",
       "\n",
       "variable  dim_0__agg_linear_trend__attr_\"intercept\"__chunk_len_10__f_agg_\"max\"  \\\n",
       "0                                                  0.581990                      \n",
       "1                                                 -0.289365                      \n",
       "2                                                  0.002486                      \n",
       "3                                                 -0.327842                      \n",
       "4                                                 -0.226793                      \n",
       "\n",
       "variable  dim_0__agg_linear_trend__attr_\"intercept\"__chunk_len_10__f_agg_\"mean\"  \\\n",
       "0                                                  0.081349                       \n",
       "1                                                 -0.539812                       \n",
       "2                                                 -0.350879                       \n",
       "3                                                 -0.590065                       \n",
       "4                                                 -0.669387                       \n",
       "\n",
       "variable  dim_0__agg_linear_trend__attr_\"intercept\"__chunk_len_10__f_agg_\"min\"  \\\n",
       "0                                                 -1.101400                      \n",
       "1                                                 -1.012311                      \n",
       "2                                                 -1.450639                      \n",
       "3                                                 -1.135305                      \n",
       "4                                                 -1.186474                      \n",
       "\n",
       "variable  dim_0__agg_linear_trend__attr_\"intercept\"__chunk_len_10__f_agg_\"var\"  \\\n",
       "0                                                  0.294958                      \n",
       "1                                                  0.076638                      \n",
       "2                                                  0.229205                      \n",
       "3                                                  0.090937                      \n",
       "4                                                  0.095314                      \n",
       "\n",
       "variable  dim_0__agg_linear_trend__attr_\"intercept\"__chunk_len_50__f_agg_\"max\"  \\\n",
       "0                                                  1.408367                      \n",
       "1                                                  0.660190                      \n",
       "2                                                  0.898647                      \n",
       "3                                                  0.676802                      \n",
       "4                                                  0.709578                      \n",
       "\n",
       "variable  ...  dim_0__symmetry_looking__r_0.9500000000000001  \\\n",
       "0         ...                                            1.0   \n",
       "1         ...                                            1.0   \n",
       "2         ...                                            1.0   \n",
       "3         ...                                            1.0   \n",
       "4         ...                                            1.0   \n",
       "\n",
       "variable  dim_0__time_reversal_asymmetry_statistic__lag_1  \\\n",
       "0                                                0.080009   \n",
       "1                                                0.048147   \n",
       "2                                                0.070395   \n",
       "3                                                0.050930   \n",
       "4                                                0.027791   \n",
       "\n",
       "variable  dim_0__time_reversal_asymmetry_statistic__lag_2  \\\n",
       "0                                                0.020304   \n",
       "1                                                0.004981   \n",
       "2                                                0.035235   \n",
       "3                                                0.009605   \n",
       "4                                                0.004080   \n",
       "\n",
       "variable  dim_0__time_reversal_asymmetry_statistic__lag_3  \\\n",
       "0                                               -0.006633   \n",
       "1                                               -0.017610   \n",
       "2                                                0.011076   \n",
       "3                                               -0.010717   \n",
       "4                                               -0.010069   \n",
       "\n",
       "variable  dim_0__value_count__value_-1  dim_0__value_count__value_0  \\\n",
       "0                                  0.0                          0.0   \n",
       "1                                  0.0                          0.0   \n",
       "2                                  0.0                          0.0   \n",
       "3                                  0.0                          0.0   \n",
       "4                                  0.0                          0.0   \n",
       "\n",
       "variable  dim_0__value_count__value_1  dim_0__variance  \\\n",
       "0                                 0.0         0.996017   \n",
       "1                                 0.0         0.996019   \n",
       "2                                 0.0         0.996017   \n",
       "3                                 0.0         0.996017   \n",
       "4                                 0.0         0.996016   \n",
       "\n",
       "variable  dim_0__variance_larger_than_standard_deviation  \\\n",
       "0                                                    0.0   \n",
       "1                                                    0.0   \n",
       "2                                                    0.0   \n",
       "3                                                    0.0   \n",
       "4                                                    0.0   \n",
       "\n",
       "variable  dim_0__variation_coefficient  \n",
       "0                         2.216810e+06  \n",
       "1                         1.482248e+06  \n",
       "2                         6.423067e+05  \n",
       "3                        -2.070245e+06  \n",
       "4                         1.278059e+06  \n",
       "\n",
       "[5 rows x 757 columns]"
      ]
     },
     "execution_count": 6,
     "metadata": {},
     "output_type": "execute_result"
    }
   ],
   "source": [
    "# tf = TsFreshTransfomer()\n",
    "t = TSFreshFeatureExtractor(default_fc_parameters=\"efficient\", show_warnings=False)\n",
    "Xt = t.fit_transform(X_train)\n",
    "Xt.head()"
   ]
  },
  {
   "cell_type": "markdown",
   "metadata": {},
   "source": [
    "## Using tsfresh with sktime"
   ]
  },
  {
   "cell_type": "code",
   "execution_count": 7,
   "metadata": {},
   "outputs": [
    {
     "name": "stderr",
     "output_type": "stream",
     "text": [
      "/Users/travis/build/alan-turing-institute/sktime/sktime/transformers/series_as_features/summarize/_tsfresh.py:150: UserWarning: Found non-unique index, replaced with unique index.\n",
      "  warn(\"Found non-unique index, replaced with unique index.\")\n"
     ]
    },
    {
     "name": "stderr",
     "output_type": "stream",
     "text": [
      "\r",
      "Feature Extraction:   0%|          | 0/5 [00:00<?, ?it/s]"
     ]
    },
    {
     "name": "stderr",
     "output_type": "stream",
     "text": [
      "\r",
      "Feature Extraction:  20%|██        | 1/5 [00:05<00:22,  5.53s/it]"
     ]
    },
    {
     "name": "stderr",
     "output_type": "stream",
     "text": [
      "\r",
      "Feature Extraction:  40%|████      | 2/5 [00:11<00:16,  5.66s/it]"
     ]
    },
    {
     "name": "stderr",
     "output_type": "stream",
     "text": [
      "\r",
      "Feature Extraction:  60%|██████    | 3/5 [00:17<00:11,  5.91s/it]"
     ]
    },
    {
     "name": "stderr",
     "output_type": "stream",
     "text": [
      "\r",
      "Feature Extraction:  80%|████████  | 4/5 [00:23<00:05,  5.71s/it]"
     ]
    },
    {
     "name": "stderr",
     "output_type": "stream",
     "text": [
      "\r",
      "Feature Extraction: 100%|██████████| 5/5 [00:28<00:00,  5.66s/it]"
     ]
    },
    {
     "name": "stderr",
     "output_type": "stream",
     "text": [
      "\r",
      "Feature Extraction: 100%|██████████| 5/5 [00:28<00:00,  5.75s/it]"
     ]
    },
    {
     "name": "stderr",
     "output_type": "stream",
     "text": [
      "\n"
     ]
    },
    {
     "name": "stderr",
     "output_type": "stream",
     "text": [
      "/Users/travis/build/alan-turing-institute/sktime/sktime/transformers/series_as_features/summarize/_tsfresh.py:150: UserWarning: Found non-unique index, replaced with unique index.\n",
      "  warn(\"Found non-unique index, replaced with unique index.\")\n"
     ]
    },
    {
     "name": "stderr",
     "output_type": "stream",
     "text": [
      "\r",
      "Feature Extraction:   0%|          | 0/5 [00:00<?, ?it/s]"
     ]
    },
    {
     "name": "stderr",
     "output_type": "stream",
     "text": [
      "\r",
      "Feature Extraction:  20%|██        | 1/5 [00:01<00:06,  1.60s/it]"
     ]
    },
    {
     "name": "stderr",
     "output_type": "stream",
     "text": [
      "\r",
      "Feature Extraction:  40%|████      | 2/5 [00:03<00:04,  1.59s/it]"
     ]
    },
    {
     "name": "stderr",
     "output_type": "stream",
     "text": [
      "\r",
      "Feature Extraction:  60%|██████    | 3/5 [00:04<00:03,  1.57s/it]"
     ]
    },
    {
     "name": "stderr",
     "output_type": "stream",
     "text": [
      "\r",
      "Feature Extraction:  80%|████████  | 4/5 [00:06<00:01,  1.56s/it]"
     ]
    },
    {
     "name": "stderr",
     "output_type": "stream",
     "text": [
      "\r",
      "Feature Extraction: 100%|██████████| 5/5 [00:07<00:00,  1.46s/it]"
     ]
    },
    {
     "name": "stderr",
     "output_type": "stream",
     "text": [
      "\r",
      "Feature Extraction: 100%|██████████| 5/5 [00:07<00:00,  1.49s/it]"
     ]
    },
    {
     "name": "stderr",
     "output_type": "stream",
     "text": [
      "\n"
     ]
    },
    {
     "data": {
      "text/plain": [
       "0.8301886792452831"
      ]
     },
     "execution_count": 7,
     "metadata": {},
     "output_type": "execute_result"
    }
   ],
   "source": [
    "classifier = make_pipeline(\n",
    "    TSFreshFeatureExtractor(default_fc_parameters=\"efficient\", show_warnings=False),\n",
    "    RandomForestClassifier()\n",
    ")\n",
    "classifier.fit(X_train, y_train)\n",
    "classifier.score(X_test, y_test)"
   ]
  },
  {
   "cell_type": "markdown",
   "metadata": {},
   "source": [
    "## Multivariate time series classification data"
   ]
  },
  {
   "cell_type": "code",
   "execution_count": 8,
   "metadata": {
    "scrolled": true
   },
   "outputs": [
    {
     "name": "stdout",
     "output_type": "stream",
     "text": [
      "(60, 6) (60,) (20, 6) (20,)\n"
     ]
    }
   ],
   "source": [
    "X, y = load_basic_motions(return_X_y=True)\n",
    "X_train, X_test, y_train, y_test = train_test_split(X, y)\n",
    "print(X_train.shape, y_train.shape, X_test.shape, y_test.shape)"
   ]
  },
  {
   "cell_type": "code",
   "execution_count": 9,
   "metadata": {
    "jupyter": {
     "outputs_hidden": false
    },
    "pycharm": {
     "name": "#%%\n"
    }
   },
   "outputs": [
    {
     "data": {
      "text/html": [
       "<div>\n",
       "<style scoped>\n",
       "    .dataframe tbody tr th:only-of-type {\n",
       "        vertical-align: middle;\n",
       "    }\n",
       "\n",
       "    .dataframe tbody tr th {\n",
       "        vertical-align: top;\n",
       "    }\n",
       "\n",
       "    .dataframe thead th {\n",
       "        text-align: right;\n",
       "    }\n",
       "</style>\n",
       "<table border=\"1\" class=\"dataframe\">\n",
       "  <thead>\n",
       "    <tr style=\"text-align: right;\">\n",
       "      <th></th>\n",
       "      <th>dim_0</th>\n",
       "      <th>dim_1</th>\n",
       "      <th>dim_2</th>\n",
       "      <th>dim_3</th>\n",
       "      <th>dim_4</th>\n",
       "      <th>dim_5</th>\n",
       "    </tr>\n",
       "  </thead>\n",
       "  <tbody>\n",
       "    <tr>\n",
       "      <th>15</th>\n",
       "      <td>0    -0.359319\n",
       "1    -0.359319\n",
       "2     4.011746\n",
       "3...</td>\n",
       "      <td>0      0.152819\n",
       "1      0.152819\n",
       "2      1.04881...</td>\n",
       "      <td>0    -0.064578\n",
       "1    -0.064578\n",
       "2    -1.804903\n",
       "3...</td>\n",
       "      <td>0     0.039951\n",
       "1     0.039951\n",
       "2    -1.347667\n",
       "3...</td>\n",
       "      <td>0    -0.042614\n",
       "1    -0.042614\n",
       "2     0.572625\n",
       "3...</td>\n",
       "      <td>0     0.125179\n",
       "1     0.125179\n",
       "2    -1.861697\n",
       "3...</td>\n",
       "    </tr>\n",
       "    <tr>\n",
       "      <th>31</th>\n",
       "      <td>0      0.130669\n",
       "1      0.130669\n",
       "2      0.06882...</td>\n",
       "      <td>0     -0.119724\n",
       "1     -0.119724\n",
       "2     -4.08360...</td>\n",
       "      <td>0     -1.019916\n",
       "1     -1.019916\n",
       "2      5.39025...</td>\n",
       "      <td>0     0.684487\n",
       "1     0.684487\n",
       "2     0.394179\n",
       "3...</td>\n",
       "      <td>0     0.290308\n",
       "1     0.290308\n",
       "2     0.617902\n",
       "3...</td>\n",
       "      <td>0     0.679160\n",
       "1     0.679160\n",
       "2     1.595360\n",
       "3...</td>\n",
       "    </tr>\n",
       "    <tr>\n",
       "      <th>13</th>\n",
       "      <td>0      2.580342\n",
       "1      2.580342\n",
       "2     -7.26891...</td>\n",
       "      <td>0     -0.850954\n",
       "1     -0.850954\n",
       "2     -6.06223...</td>\n",
       "      <td>0     -0.150030\n",
       "1     -0.150030\n",
       "2      0.96421...</td>\n",
       "      <td>0    -0.005327\n",
       "1    -0.005327\n",
       "2     0.002663\n",
       "3...</td>\n",
       "      <td>0     0.050604\n",
       "1     0.050604\n",
       "2    -0.364882\n",
       "3...</td>\n",
       "      <td>0     0.311615\n",
       "1     0.311615\n",
       "2    -0.772378\n",
       "3...</td>\n",
       "    </tr>\n",
       "    <tr>\n",
       "      <th>26</th>\n",
       "      <td>0    -0.761604\n",
       "1    -0.761604\n",
       "2     0.121078\n",
       "3...</td>\n",
       "      <td>0     0.260125\n",
       "1     0.260125\n",
       "2    -1.423255\n",
       "3...</td>\n",
       "      <td>0    -0.064487\n",
       "1    -0.064487\n",
       "2     0.075600\n",
       "3...</td>\n",
       "      <td>0     0.069248\n",
       "1     0.069248\n",
       "2    -0.282318\n",
       "3...</td>\n",
       "      <td>0     0.242367\n",
       "1     0.242367\n",
       "2    -0.332922\n",
       "3...</td>\n",
       "      <td>0    -0.007990\n",
       "1    -0.007990\n",
       "2     0.239704\n",
       "3...</td>\n",
       "    </tr>\n",
       "    <tr>\n",
       "      <th>3</th>\n",
       "      <td>0     0.289855\n",
       "1     0.289855\n",
       "2    -0.669185\n",
       "3...</td>\n",
       "      <td>0     0.284130\n",
       "1     0.284130\n",
       "2    -0.210466\n",
       "3...</td>\n",
       "      <td>0     0.213680\n",
       "1     0.213680\n",
       "2     0.252267\n",
       "3...</td>\n",
       "      <td>0    -0.314278\n",
       "1    -0.314278\n",
       "2     0.018644\n",
       "3...</td>\n",
       "      <td>0     0.074574\n",
       "1     0.074574\n",
       "2     0.007990\n",
       "3...</td>\n",
       "      <td>0    -0.079901\n",
       "1    -0.079901\n",
       "2     0.237040\n",
       "3...</td>\n",
       "    </tr>\n",
       "  </tbody>\n",
       "</table>\n",
       "</div>"
      ],
      "text/plain": [
       "                                                dim_0  \\\n",
       "15  0    -0.359319\n",
       "1    -0.359319\n",
       "2     4.011746\n",
       "3...   \n",
       "31  0      0.130669\n",
       "1      0.130669\n",
       "2      0.06882...   \n",
       "13  0      2.580342\n",
       "1      2.580342\n",
       "2     -7.26891...   \n",
       "26  0    -0.761604\n",
       "1    -0.761604\n",
       "2     0.121078\n",
       "3...   \n",
       "3   0     0.289855\n",
       "1     0.289855\n",
       "2    -0.669185\n",
       "3...   \n",
       "\n",
       "                                                dim_1  \\\n",
       "15  0      0.152819\n",
       "1      0.152819\n",
       "2      1.04881...   \n",
       "31  0     -0.119724\n",
       "1     -0.119724\n",
       "2     -4.08360...   \n",
       "13  0     -0.850954\n",
       "1     -0.850954\n",
       "2     -6.06223...   \n",
       "26  0     0.260125\n",
       "1     0.260125\n",
       "2    -1.423255\n",
       "3...   \n",
       "3   0     0.284130\n",
       "1     0.284130\n",
       "2    -0.210466\n",
       "3...   \n",
       "\n",
       "                                                dim_2  \\\n",
       "15  0    -0.064578\n",
       "1    -0.064578\n",
       "2    -1.804903\n",
       "3...   \n",
       "31  0     -1.019916\n",
       "1     -1.019916\n",
       "2      5.39025...   \n",
       "13  0     -0.150030\n",
       "1     -0.150030\n",
       "2      0.96421...   \n",
       "26  0    -0.064487\n",
       "1    -0.064487\n",
       "2     0.075600\n",
       "3...   \n",
       "3   0     0.213680\n",
       "1     0.213680\n",
       "2     0.252267\n",
       "3...   \n",
       "\n",
       "                                                dim_3  \\\n",
       "15  0     0.039951\n",
       "1     0.039951\n",
       "2    -1.347667\n",
       "3...   \n",
       "31  0     0.684487\n",
       "1     0.684487\n",
       "2     0.394179\n",
       "3...   \n",
       "13  0    -0.005327\n",
       "1    -0.005327\n",
       "2     0.002663\n",
       "3...   \n",
       "26  0     0.069248\n",
       "1     0.069248\n",
       "2    -0.282318\n",
       "3...   \n",
       "3   0    -0.314278\n",
       "1    -0.314278\n",
       "2     0.018644\n",
       "3...   \n",
       "\n",
       "                                                dim_4  \\\n",
       "15  0    -0.042614\n",
       "1    -0.042614\n",
       "2     0.572625\n",
       "3...   \n",
       "31  0     0.290308\n",
       "1     0.290308\n",
       "2     0.617902\n",
       "3...   \n",
       "13  0     0.050604\n",
       "1     0.050604\n",
       "2    -0.364882\n",
       "3...   \n",
       "26  0     0.242367\n",
       "1     0.242367\n",
       "2    -0.332922\n",
       "3...   \n",
       "3   0     0.074574\n",
       "1     0.074574\n",
       "2     0.007990\n",
       "3...   \n",
       "\n",
       "                                                dim_5  \n",
       "15  0     0.125179\n",
       "1     0.125179\n",
       "2    -1.861697\n",
       "3...  \n",
       "31  0     0.679160\n",
       "1     0.679160\n",
       "2     1.595360\n",
       "3...  \n",
       "13  0     0.311615\n",
       "1     0.311615\n",
       "2    -0.772378\n",
       "3...  \n",
       "26  0    -0.007990\n",
       "1    -0.007990\n",
       "2     0.239704\n",
       "3...  \n",
       "3   0    -0.079901\n",
       "1    -0.079901\n",
       "2     0.237040\n",
       "3...  "
      ]
     },
     "execution_count": 9,
     "metadata": {},
     "output_type": "execute_result"
    }
   ],
   "source": [
    "# multivariate input data\n",
    "X_train.head()"
   ]
  },
  {
   "cell_type": "code",
   "execution_count": 10,
   "metadata": {
    "scrolled": true
   },
   "outputs": [
    {
     "name": "stderr",
     "output_type": "stream",
     "text": [
      "/Users/travis/build/alan-turing-institute/sktime/sktime/transformers/series_as_features/summarize/_tsfresh.py:150: UserWarning: Found non-unique index, replaced with unique index.\n",
      "  warn(\"Found non-unique index, replaced with unique index.\")\n"
     ]
    },
    {
     "name": "stderr",
     "output_type": "stream",
     "text": [
      "\r",
      "Feature Extraction:   0%|          | 0/5 [00:00<?, ?it/s]"
     ]
    },
    {
     "name": "stderr",
     "output_type": "stream",
     "text": [
      "\r",
      "Feature Extraction:  20%|██        | 1/5 [00:08<00:32,  8.00s/it]"
     ]
    },
    {
     "name": "stderr",
     "output_type": "stream",
     "text": [
      "\r",
      "Feature Extraction:  40%|████      | 2/5 [00:15<00:23,  7.88s/it]"
     ]
    },
    {
     "name": "stderr",
     "output_type": "stream",
     "text": [
      "\r",
      "Feature Extraction:  60%|██████    | 3/5 [00:23<00:15,  7.81s/it]"
     ]
    },
    {
     "name": "stderr",
     "output_type": "stream",
     "text": [
      "\r",
      "Feature Extraction:  80%|████████  | 4/5 [00:30<00:07,  7.76s/it]"
     ]
    },
    {
     "name": "stderr",
     "output_type": "stream",
     "text": [
      "\r",
      "Feature Extraction: 100%|██████████| 5/5 [00:38<00:00,  7.71s/it]"
     ]
    },
    {
     "name": "stderr",
     "output_type": "stream",
     "text": [
      "\r",
      "Feature Extraction: 100%|██████████| 5/5 [00:38<00:00,  7.70s/it]"
     ]
    },
    {
     "name": "stderr",
     "output_type": "stream",
     "text": [
      "\n"
     ]
    },
    {
     "data": {
      "text/html": [
       "<div>\n",
       "<style scoped>\n",
       "    .dataframe tbody tr th:only-of-type {\n",
       "        vertical-align: middle;\n",
       "    }\n",
       "\n",
       "    .dataframe tbody tr th {\n",
       "        vertical-align: top;\n",
       "    }\n",
       "\n",
       "    .dataframe thead th {\n",
       "        text-align: right;\n",
       "    }\n",
       "</style>\n",
       "<table border=\"1\" class=\"dataframe\">\n",
       "  <thead>\n",
       "    <tr style=\"text-align: right;\">\n",
       "      <th>variable</th>\n",
       "      <th>dim_0__abs_energy</th>\n",
       "      <th>dim_0__absolute_sum_of_changes</th>\n",
       "      <th>dim_0__agg_autocorrelation__f_agg_\"mean\"__maxlag_40</th>\n",
       "      <th>dim_0__agg_autocorrelation__f_agg_\"median\"__maxlag_40</th>\n",
       "      <th>dim_0__agg_autocorrelation__f_agg_\"var\"__maxlag_40</th>\n",
       "      <th>dim_0__agg_linear_trend__attr_\"intercept\"__chunk_len_10__f_agg_\"max\"</th>\n",
       "      <th>dim_0__agg_linear_trend__attr_\"intercept\"__chunk_len_10__f_agg_\"mean\"</th>\n",
       "      <th>dim_0__agg_linear_trend__attr_\"intercept\"__chunk_len_10__f_agg_\"min\"</th>\n",
       "      <th>dim_0__agg_linear_trend__attr_\"intercept\"__chunk_len_10__f_agg_\"var\"</th>\n",
       "      <th>dim_0__agg_linear_trend__attr_\"intercept\"__chunk_len_50__f_agg_\"max\"</th>\n",
       "      <th>...</th>\n",
       "      <th>dim_5__symmetry_looking__r_0.9500000000000001</th>\n",
       "      <th>dim_5__time_reversal_asymmetry_statistic__lag_1</th>\n",
       "      <th>dim_5__time_reversal_asymmetry_statistic__lag_2</th>\n",
       "      <th>dim_5__time_reversal_asymmetry_statistic__lag_3</th>\n",
       "      <th>dim_5__value_count__value_-1</th>\n",
       "      <th>dim_5__value_count__value_0</th>\n",
       "      <th>dim_5__value_count__value_1</th>\n",
       "      <th>dim_5__variance</th>\n",
       "      <th>dim_5__variance_larger_than_standard_deviation</th>\n",
       "      <th>dim_5__variation_coefficient</th>\n",
       "    </tr>\n",
       "  </thead>\n",
       "  <tbody>\n",
       "    <tr>\n",
       "      <th>0</th>\n",
       "      <td>18144.435446</td>\n",
       "      <td>998.086426</td>\n",
       "      <td>0.005495</td>\n",
       "      <td>-0.061116</td>\n",
       "      <td>0.163137</td>\n",
       "      <td>21.954887</td>\n",
       "      <td>5.377214</td>\n",
       "      <td>-18.450373</td>\n",
       "      <td>190.873929</td>\n",
       "      <td>23.318779</td>\n",
       "      <td>...</td>\n",
       "      <td>1.0</td>\n",
       "      <td>20.476114</td>\n",
       "      <td>23.430968</td>\n",
       "      <td>52.614071</td>\n",
       "      <td>0.0</td>\n",
       "      <td>0.0</td>\n",
       "      <td>0.0</td>\n",
       "      <td>32.054682</td>\n",
       "      <td>1.0</td>\n",
       "      <td>1742.432343</td>\n",
       "    </tr>\n",
       "    <tr>\n",
       "      <th>1</th>\n",
       "      <td>7638.280878</td>\n",
       "      <td>494.592749</td>\n",
       "      <td>-0.037506</td>\n",
       "      <td>-0.046871</td>\n",
       "      <td>0.015511</td>\n",
       "      <td>13.940877</td>\n",
       "      <td>5.248257</td>\n",
       "      <td>-0.141364</td>\n",
       "      <td>21.789600</td>\n",
       "      <td>27.207380</td>\n",
       "      <td>...</td>\n",
       "      <td>1.0</td>\n",
       "      <td>-11.139032</td>\n",
       "      <td>8.109147</td>\n",
       "      <td>-0.337394</td>\n",
       "      <td>0.0</td>\n",
       "      <td>0.0</td>\n",
       "      <td>0.0</td>\n",
       "      <td>13.456041</td>\n",
       "      <td>1.0</td>\n",
       "      <td>-11.257922</td>\n",
       "    </tr>\n",
       "    <tr>\n",
       "      <th>2</th>\n",
       "      <td>10764.169856</td>\n",
       "      <td>671.272140</td>\n",
       "      <td>0.016019</td>\n",
       "      <td>-0.037014</td>\n",
       "      <td>0.161924</td>\n",
       "      <td>10.704797</td>\n",
       "      <td>1.946699</td>\n",
       "      <td>-12.205448</td>\n",
       "      <td>65.296221</td>\n",
       "      <td>15.367535</td>\n",
       "      <td>...</td>\n",
       "      <td>1.0</td>\n",
       "      <td>4.948201</td>\n",
       "      <td>5.331894</td>\n",
       "      <td>16.386624</td>\n",
       "      <td>0.0</td>\n",
       "      <td>0.0</td>\n",
       "      <td>0.0</td>\n",
       "      <td>19.585905</td>\n",
       "      <td>1.0</td>\n",
       "      <td>196.180932</td>\n",
       "    </tr>\n",
       "    <tr>\n",
       "      <th>3</th>\n",
       "      <td>220.949429</td>\n",
       "      <td>104.677565</td>\n",
       "      <td>-0.009585</td>\n",
       "      <td>-0.050995</td>\n",
       "      <td>0.059427</td>\n",
       "      <td>2.753245</td>\n",
       "      <td>0.627320</td>\n",
       "      <td>-0.862156</td>\n",
       "      <td>1.634518</td>\n",
       "      <td>3.490647</td>\n",
       "      <td>...</td>\n",
       "      <td>1.0</td>\n",
       "      <td>0.029599</td>\n",
       "      <td>0.139377</td>\n",
       "      <td>0.368081</td>\n",
       "      <td>0.0</td>\n",
       "      <td>0.0</td>\n",
       "      <td>0.0</td>\n",
       "      <td>1.671577</td>\n",
       "      <td>1.0</td>\n",
       "      <td>62.315369</td>\n",
       "    </tr>\n",
       "    <tr>\n",
       "      <th>4</th>\n",
       "      <td>6.150112</td>\n",
       "      <td>19.595197</td>\n",
       "      <td>0.009984</td>\n",
       "      <td>0.018959</td>\n",
       "      <td>0.011848</td>\n",
       "      <td>0.183837</td>\n",
       "      <td>-0.084124</td>\n",
       "      <td>-0.391862</td>\n",
       "      <td>0.037496</td>\n",
       "      <td>0.289855</td>\n",
       "      <td>...</td>\n",
       "      <td>1.0</td>\n",
       "      <td>0.002119</td>\n",
       "      <td>0.003174</td>\n",
       "      <td>-0.002938</td>\n",
       "      <td>0.0</td>\n",
       "      <td>3.0</td>\n",
       "      <td>0.0</td>\n",
       "      <td>0.061584</td>\n",
       "      <td>0.0</td>\n",
       "      <td>8.401754</td>\n",
       "    </tr>\n",
       "  </tbody>\n",
       "</table>\n",
       "<p>5 rows × 4542 columns</p>\n",
       "</div>"
      ],
      "text/plain": [
       "variable  dim_0__abs_energy  dim_0__absolute_sum_of_changes  \\\n",
       "0              18144.435446                      998.086426   \n",
       "1               7638.280878                      494.592749   \n",
       "2              10764.169856                      671.272140   \n",
       "3                220.949429                      104.677565   \n",
       "4                  6.150112                       19.595197   \n",
       "\n",
       "variable  dim_0__agg_autocorrelation__f_agg_\"mean\"__maxlag_40  \\\n",
       "0                                                  0.005495     \n",
       "1                                                 -0.037506     \n",
       "2                                                  0.016019     \n",
       "3                                                 -0.009585     \n",
       "4                                                  0.009984     \n",
       "\n",
       "variable  dim_0__agg_autocorrelation__f_agg_\"median\"__maxlag_40  \\\n",
       "0                                                 -0.061116       \n",
       "1                                                 -0.046871       \n",
       "2                                                 -0.037014       \n",
       "3                                                 -0.050995       \n",
       "4                                                  0.018959       \n",
       "\n",
       "variable  dim_0__agg_autocorrelation__f_agg_\"var\"__maxlag_40  \\\n",
       "0                                                  0.163137    \n",
       "1                                                  0.015511    \n",
       "2                                                  0.161924    \n",
       "3                                                  0.059427    \n",
       "4                                                  0.011848    \n",
       "\n",
       "variable  dim_0__agg_linear_trend__attr_\"intercept\"__chunk_len_10__f_agg_\"max\"  \\\n",
       "0                                                 21.954887                      \n",
       "1                                                 13.940877                      \n",
       "2                                                 10.704797                      \n",
       "3                                                  2.753245                      \n",
       "4                                                  0.183837                      \n",
       "\n",
       "variable  dim_0__agg_linear_trend__attr_\"intercept\"__chunk_len_10__f_agg_\"mean\"  \\\n",
       "0                                                  5.377214                       \n",
       "1                                                  5.248257                       \n",
       "2                                                  1.946699                       \n",
       "3                                                  0.627320                       \n",
       "4                                                 -0.084124                       \n",
       "\n",
       "variable  dim_0__agg_linear_trend__attr_\"intercept\"__chunk_len_10__f_agg_\"min\"  \\\n",
       "0                                                -18.450373                      \n",
       "1                                                 -0.141364                      \n",
       "2                                                -12.205448                      \n",
       "3                                                 -0.862156                      \n",
       "4                                                 -0.391862                      \n",
       "\n",
       "variable  dim_0__agg_linear_trend__attr_\"intercept\"__chunk_len_10__f_agg_\"var\"  \\\n",
       "0                                                190.873929                      \n",
       "1                                                 21.789600                      \n",
       "2                                                 65.296221                      \n",
       "3                                                  1.634518                      \n",
       "4                                                  0.037496                      \n",
       "\n",
       "variable  dim_0__agg_linear_trend__attr_\"intercept\"__chunk_len_50__f_agg_\"max\"  \\\n",
       "0                                                 23.318779                      \n",
       "1                                                 27.207380                      \n",
       "2                                                 15.367535                      \n",
       "3                                                  3.490647                      \n",
       "4                                                  0.289855                      \n",
       "\n",
       "variable  ...  dim_5__symmetry_looking__r_0.9500000000000001  \\\n",
       "0         ...                                            1.0   \n",
       "1         ...                                            1.0   \n",
       "2         ...                                            1.0   \n",
       "3         ...                                            1.0   \n",
       "4         ...                                            1.0   \n",
       "\n",
       "variable  dim_5__time_reversal_asymmetry_statistic__lag_1  \\\n",
       "0                                               20.476114   \n",
       "1                                              -11.139032   \n",
       "2                                                4.948201   \n",
       "3                                                0.029599   \n",
       "4                                                0.002119   \n",
       "\n",
       "variable  dim_5__time_reversal_asymmetry_statistic__lag_2  \\\n",
       "0                                               23.430968   \n",
       "1                                                8.109147   \n",
       "2                                                5.331894   \n",
       "3                                                0.139377   \n",
       "4                                                0.003174   \n",
       "\n",
       "variable  dim_5__time_reversal_asymmetry_statistic__lag_3  \\\n",
       "0                                               52.614071   \n",
       "1                                               -0.337394   \n",
       "2                                               16.386624   \n",
       "3                                                0.368081   \n",
       "4                                               -0.002938   \n",
       "\n",
       "variable  dim_5__value_count__value_-1  dim_5__value_count__value_0  \\\n",
       "0                                  0.0                          0.0   \n",
       "1                                  0.0                          0.0   \n",
       "2                                  0.0                          0.0   \n",
       "3                                  0.0                          0.0   \n",
       "4                                  0.0                          3.0   \n",
       "\n",
       "variable  dim_5__value_count__value_1  dim_5__variance  \\\n",
       "0                                 0.0        32.054682   \n",
       "1                                 0.0        13.456041   \n",
       "2                                 0.0        19.585905   \n",
       "3                                 0.0         1.671577   \n",
       "4                                 0.0         0.061584   \n",
       "\n",
       "variable  dim_5__variance_larger_than_standard_deviation  \\\n",
       "0                                                    1.0   \n",
       "1                                                    1.0   \n",
       "2                                                    1.0   \n",
       "3                                                    1.0   \n",
       "4                                                    0.0   \n",
       "\n",
       "variable  dim_5__variation_coefficient  \n",
       "0                          1742.432343  \n",
       "1                           -11.257922  \n",
       "2                           196.180932  \n",
       "3                            62.315369  \n",
       "4                             8.401754  \n",
       "\n",
       "[5 rows x 4542 columns]"
      ]
     },
     "execution_count": 10,
     "metadata": {},
     "output_type": "execute_result"
    }
   ],
   "source": [
    "t = TSFreshFeatureExtractor(default_fc_parameters=\"efficient\", show_warnings=False)\n",
    "Xt = t.fit_transform(X_train)\n",
    "Xt.head()"
   ]
  }
 ],
 "metadata": {
  "kernelspec": {
   "display_name": "Python 3",
   "language": "python",
   "name": "python3"
  },
  "language_info": {
   "codemirror_mode": {
    "name": "ipython",
    "version": 3
   },
   "file_extension": ".py",
   "mimetype": "text/x-python",
   "name": "python",
   "nbconvert_exporter": "python",
   "pygments_lexer": "ipython3",
   "version": "3.7.7"
  }
 },
 "nbformat": 4,
 "nbformat_minor": 4
}
